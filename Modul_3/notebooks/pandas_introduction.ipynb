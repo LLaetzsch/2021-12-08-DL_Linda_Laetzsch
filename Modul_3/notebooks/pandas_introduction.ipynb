{
 "cells": [
  {
   "cell_type": "code",
   "execution_count": 3,
   "id": "b2c7ffea",
   "metadata": {},
   "outputs": [
    {
     "name": "stdout",
     "output_type": "stream",
     "text": [
      "0    34\n",
      "1    12\n",
      "2    23\n",
      "3    45\n",
      "dtype: int64\n"
     ]
    },
    {
     "data": {
      "text/plain": [
       "dtype('int64')"
      ]
     },
     "execution_count": 3,
     "metadata": {},
     "output_type": "execute_result"
    }
   ],
   "source": [
    "import pandas as pd\n",
    "x = pd.Series([34, 12, 23, 45])\n",
    "print(x)\n",
    "x.dtype"
   ]
  },
  {
   "cell_type": "code",
   "execution_count": 4,
   "id": "01f4d922",
   "metadata": {},
   "outputs": [],
   "source": [
    "# Welches Skalenniveau besitzen die Variablen im nachfolgendem Beipiel?\n",
    "# month = nominalskaliert(Namen können Zahlen als Stellvertreter zugewiesen werden, können für Rechenoperationen nicht genutzt werden),\n",
    "# temp = intervallskaliert(lt.Musterlösung Kardinalsskala/metrisch),\n",
    "# below_zero = nominalskaliert\n",
    "\n",
    "# Sind die Variablen stetig oder diskret?\n",
    "# month = diskret (Abzählbar), temp = stetig (Der Wert/das Merkmal kann alle möglichen Ausprägungen annehmen),\n",
    "# below_zero = diskret\n",
    "\n",
    "# Was ist der Datentyp jeder einzelnen Spalte?\n",
    "# month = str(Zeichenkette/String)(lt. Musterlösung , temp = float(Gleitkommazahl)(Musterlösung sagt int),\n",
    "# below_zero = bool\n",
    "\n",
    "# Erstelle eine neue Zeile mit den Werten ('Apr', 5, False)\n",
    "\n",
    "# Erstelle eine neue Spalte year mit den Werten (2020, 2020, 2020, 2020)"
   ]
  },
  {
   "cell_type": "code",
   "execution_count": 9,
   "id": "463bae13",
   "metadata": {},
   "outputs": [
    {
     "name": "stdout",
     "output_type": "stream",
     "text": [
      "  month  temp  below_zero  year\n",
      "0   Jan    -5        True  2020\n",
      "1   Feb     2       False  2020\n",
      "2   Mar     3       False  2020\n",
      "3   Apr     5       False  2020\n"
     ]
    }
   ],
   "source": [
    "data = {'month': ['Jan', 'Feb', 'Mar', 'Apr'],\n",
    "        'temp': [-5, 2, 3, 5],\n",
    "         'below_zero': [True, False, False, False],\n",
    "        'year':[2020]*4}\n",
    "df = pd.DataFrame(data)\n",
    "print(df)"
   ]
  },
  {
   "cell_type": "code",
   "execution_count": null,
   "id": "2bf5c450",
   "metadata": {},
   "outputs": [],
   "source": []
  }
 ],
 "metadata": {
  "kernelspec": {
   "display_name": "Python 3 (ipykernel)",
   "language": "python",
   "name": "python3"
  },
  "language_info": {
   "codemirror_mode": {
    "name": "ipython",
    "version": 3
   },
   "file_extension": ".py",
   "mimetype": "text/x-python",
   "name": "python",
   "nbconvert_exporter": "python",
   "pygments_lexer": "ipython3",
   "version": "3.9.7"
  }
 },
 "nbformat": 4,
 "nbformat_minor": 5
}
