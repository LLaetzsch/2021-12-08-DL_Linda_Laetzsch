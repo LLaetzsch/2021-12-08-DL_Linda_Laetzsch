{
 "cells": [
  {
   "cell_type": "markdown",
   "id": "67a48e66",
   "metadata": {},
   "source": [
    "Finde heraus, wie viel freier Arbeitsspeicher\n",
    "Dein Computer hat (Das Betriebssystem und Hintergrundprogramme verbrauchen auch RAM)\n",
    "- 8,00GB (7,76 GB verwendbar) in System > Info\n",
    "- (Terminal *free*) Frei: 258608 Ausgelagert: 934096 Verfügbar: 551212\n",
    "- (Terminal *free -h*) Frei: 91Mi Ausgelagert: 993Mi Verfügbar: 488Mi\n",
    "Lösung sagt: In Linux kann z.B. mit dem free Kommando der freie Speicherplatz ermittelt werden. Bei 8 Gigabyte Arbeitsspeicher werden ca. 3 Gigabyte vom System verbraucht.\n",
    "\n",
    "\n",
    "Wie viele int64 Werte, also Zahlen, die 8 Byte (=64 Bit) Speicher benötigen, kannst Du damit theoretisch in den Arbeitsspeicher laden? Tip: Nutze Google zum Umrechnen.\n",
    "- (7,76 gigabytes) / (64 bits) = 970 000 000\n",
    "Lösung sagt: 5 Gigabyte sind 5 000 000 000 Bytes. Somit können theoretisch 625 000 000 Zahlen vom Typ int64 eingelesen werden.\n",
    "\n",
    "\n",
    "Wie viele Beobachtungen kann eine Tabelle mit 100 numerischen Variablen damit maximal theoretisch haben, damit Du diese noch bearbeiten kannst?\n",
    "- 9,7 Millionen\n",
    "Lösung sagt: Eine Tabelle mit 100 Variablen kann somit 6.25 Millionen Beobachtungen enthalten.\n",
    "\n",
    "\n",
    "Nutze die Funktion ***df.memory_usage()*** um Dir den tatsächlich benötigten Speicher eines DataFrames oder einer Series anzeigen zu lassen. Mit dem Funktionsargument ***deep=True*** wird der Wert genau ermittelt und nicht nur geschätzt."
   ]
  },
  {
   "cell_type": "code",
   "execution_count": null,
   "id": "d6edb29b",
   "metadata": {},
   "outputs": [],
   "source": []
  }
 ],
 "metadata": {
  "kernelspec": {
   "display_name": "Python 3 (ipykernel)",
   "language": "python",
   "name": "python3"
  },
  "language_info": {
   "codemirror_mode": {
    "name": "ipython",
    "version": 3
   },
   "file_extension": ".py",
   "mimetype": "text/x-python",
   "name": "python",
   "nbconvert_exporter": "python",
   "pygments_lexer": "ipython3",
   "version": "3.9.7"
  }
 },
 "nbformat": 4,
 "nbformat_minor": 5
}
