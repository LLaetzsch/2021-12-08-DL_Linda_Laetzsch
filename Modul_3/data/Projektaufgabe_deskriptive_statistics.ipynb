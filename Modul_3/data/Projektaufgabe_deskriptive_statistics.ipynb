{
 "cells": [
  {
   "cell_type": "markdown",
   "id": "bd79b33a",
   "metadata": {},
   "source": [
    "# Projektaufgabe: Deskriptive Statistik und Visualisierungen\n",
    "\n",
    "Für den Online-Artikel zum Kundenstamm der Bibliothek braucht die Pressestelle einige interessanten Zahlen zum Thema Alter und Bibliotheksnutzung. Außerdem möchte sie die Daten in einer Info-Graphik zusammenstellen.\n",
    "\n",
    "Für eine erste Demo bist Du verantwortlich:\n",
    "\n",
    "- Berechne 2-3 Statistiken und erstelle 2-3 Visualisierungen basierend auf den Informationen im [Datensatz](https://zbmed.github.io/2021-2022-ZK_Data_Librarian_Modul_3/organisation/dataset/).\n",
    "- Nutze **pandas** zur Berechnung der Statistiken und **seaborn** für die Visualisierungen.\n",
    "- Lade bis spätestens **25.03.21** Deinen Report in Form eines Jupyter Notebooks in der Dateiablage in Moodle hoch.\n",
    "---"
   ]
  },
  {
   "cell_type": "markdown",
   "id": "31a3f4b2",
   "metadata": {},
   "source": [
    "## Beispielfragen, die Du mit dem Datensatz beantworten und visualisieren kannst:\n",
    "\n",
    "- Wie viele Senioren und Kinder sind Kunden der San Francisco Public Library?\n",
    "***44291 Senioren im Alter ab 65 Jahren***\n",
    "***38242 Kinder im Alter zwischen 0 und 9 Jahren***\n",
    "\n",
    "\n",
    "- Wie viele Nutzer möchten per Mail informiert werden?\n",
    "\n",
    "\n",
    "\n",
    "- Wie alt sind diese Nutzer durchschnittlich im Vergleich zu Nutzern, die per Post informiert werden möchten?\n",
    "- Wie viele Ausleihen werden im Mittel pro Altersgruppe und pro Jahr getätigt? Ist die Streuung zwischen den Gruppen gleich?"
   ]
  },
  {
   "cell_type": "code",
   "execution_count": 46,
   "id": "c25ab308",
   "metadata": {},
   "outputs": [
    {
     "data": {
      "text/plain": [
       "0            NaN\n",
       "1         2016.0\n",
       "2            NaN\n",
       "3            NaN\n",
       "4         2016.0\n",
       "           ...  \n",
       "423443    2015.0\n",
       "423444    2016.0\n",
       "423445    2016.0\n",
       "423446    2015.0\n",
       "423447       NaN\n",
       "Name: Circulation Active Year, Length: 423448, dtype: float64"
      ]
     },
     "execution_count": 46,
     "metadata": {},
     "output_type": "execute_result"
    }
   ],
   "source": [
    "import pandas as pd\n",
    "df = pd.read_csv(\"../data/Library_Usage.csv\", na_values=\"None\")\n",
    "df['Circulation Active Year'] = pd.to_numeric(df['Circulation Active Year'], errors='coerce')\n",
    "df['Circulation Active Year']"
   ]
  },
  {
   "cell_type": "markdown",
   "id": "ead9ad3a",
   "metadata": {},
   "source": [
    "### 3.1 Häufigkeiten\n",
    "\n",
    "1. Erstelle eine Häufigkeitsverteilung für die Variable 'Year Patron Registered'.\n",
    "- Wieviel Prozent der Kunden wurden 2013 im System registriert?\n",
    "\n",
    "   ***Es wurden ca. 11,4% neu registriert.***\n",
    "   \n",
    "\n",
    "- Wie viele in den kommenden Jahren?\n",
    "\n",
    "    ***2014-12,3% , 2015-12,7%, 2016-0,06%***\n",
    "    \n",
    "\n",
    "- Was fällt Dir auf?\n",
    "\n",
    "    ***Die Neu-Registrierungen nehmen ab 2013 kontinuierlich zu bis sie 2016 wieder auf durchschnittlich 0,62% zurückfallen. Zur öffentlichen Bibliothek in San Francisco gehören viele Zweigbibliotheken. Eine davon ist die \"Bayview Library\", welche am 23. Februar 2013 eröffnet wurde. Das erklärt vermutlich die überdurchschnittlich vielen Anmeldungen.***"
   ]
  },
  {
   "cell_type": "code",
   "execution_count": 36,
   "id": "48d7a0d6",
   "metadata": {},
   "outputs": [
    {
     "data": {
      "text/plain": [
       "2003    0.163555\n",
       "2015    0.127409\n",
       "2014    0.122570\n",
       "2013    0.113948\n",
       "2012    0.088311\n",
       "2011    0.062655\n",
       "2016    0.062081\n",
       "2010    0.057436\n",
       "2009    0.052679\n",
       "2008    0.048455\n",
       "2007    0.031383\n",
       "2006    0.025448\n",
       "2005    0.022832\n",
       "2004    0.021240\n",
       "Name: Year Patron Registered, dtype: float64"
      ]
     },
     "execution_count": 36,
     "metadata": {},
     "output_type": "execute_result"
    }
   ],
   "source": [
    "df['Year Patron Registered'].value_counts(normalize=True)"
   ]
  },
  {
   "cell_type": "markdown",
   "id": "8b7822b8",
   "metadata": {},
   "source": [
    "2. Wieviel Prozent der Kunden sind zwischen 25 und 34 Jahren?\n",
    "\n",
    "   ***ca. 21,5%***"
   ]
  },
  {
   "cell_type": "code",
   "execution_count": 37,
   "id": "d62111fe",
   "metadata": {},
   "outputs": [
    {
     "data": {
      "text/plain": [
       "25 to 34 years       0.215208\n",
       "35 to 44 years       0.159227\n",
       "10 to 19 years       0.139271\n",
       "45 to 54 years       0.124026\n",
       "0 to 9 years         0.090357\n",
       "65 to 74 years       0.071216\n",
       "20 to 24 years       0.070318\n",
       "55 to 59 years       0.050161\n",
       "60 to 64 years       0.046783\n",
       "75 years and over    0.033433\n",
       "Name: Age Range, dtype: float64"
      ]
     },
     "execution_count": 37,
     "metadata": {},
     "output_type": "execute_result"
    }
   ],
   "source": [
    "df['Age Range'].value_counts(normalize=True)"
   ]
  },
  {
   "cell_type": "code",
   "execution_count": 38,
   "id": "713b1b72",
   "metadata": {},
   "outputs": [],
   "source": [
    "kinder=df.loc[df['Age Range'] == \"0 to 9 years\"]"
   ]
  },
  {
   "cell_type": "code",
   "execution_count": 39,
   "id": "1335e0ff",
   "metadata": {},
   "outputs": [
    {
     "data": {
      "text/plain": [
       "38242"
      ]
     },
     "execution_count": 39,
     "metadata": {},
     "output_type": "execute_result"
    }
   ],
   "source": [
    "len(kinder)"
   ]
  },
  {
   "cell_type": "code",
   "execution_count": 40,
   "id": "a06d088e",
   "metadata": {},
   "outputs": [],
   "source": [
    "senioren=df.loc[\n",
    "    (df['Age Range'] == \"65 to 74 years\") | \n",
    "    (df['Age Range'] == \"75 years and over\")\n",
    "]"
   ]
  },
  {
   "cell_type": "code",
   "execution_count": 41,
   "id": "6a21be95",
   "metadata": {},
   "outputs": [
    {
     "data": {
      "text/plain": [
       "44291"
      ]
     },
     "execution_count": 41,
     "metadata": {},
     "output_type": "execute_result"
    }
   ],
   "source": [
    "len(senioren)"
   ]
  },
  {
   "cell_type": "markdown",
   "id": "80fda6f3",
   "metadata": {},
   "source": [
    "3. Ersetze die fehlenden Werte in der Spalte **Age Range** durch den Modus dieser Spalte. Nutze dazu die Funktion **DataFrame.fillna** (siehe [hier](https://devdocs.io/pandas~0.25/reference/api/pandas.dataframe.fillna) für die Dokumentation).\n",
    "\n"
   ]
  },
  {
   "cell_type": "markdown",
   "id": "dee59a71",
   "metadata": {},
   "source": [
    "***Filter***\n",
    "Die Funktionen isna (notna) geben eine boolesche Series zurück, die True (False) ist,\n",
    "wenn an der Stelle ein fehlender Wert steht. Damit pandas fehlende Werte korrekt erkennt,\n",
    "müssen diese vorher erst in das interne Format NaN umgewandelt werden."
   ]
  },
  {
   "cell_type": "code",
   "execution_count": 42,
   "id": "657ad9e7",
   "metadata": {},
   "outputs": [
    {
     "data": {
      "text/html": [
       "<div>\n",
       "<style scoped>\n",
       "    .dataframe tbody tr th:only-of-type {\n",
       "        vertical-align: middle;\n",
       "    }\n",
       "\n",
       "    .dataframe tbody tr th {\n",
       "        vertical-align: top;\n",
       "    }\n",
       "\n",
       "    .dataframe thead th {\n",
       "        text-align: right;\n",
       "    }\n",
       "</style>\n",
       "<table border=\"1\" class=\"dataframe\">\n",
       "  <thead>\n",
       "    <tr style=\"text-align: right;\">\n",
       "      <th></th>\n",
       "      <th>Patron Type Code</th>\n",
       "      <th>Patron Type Definition</th>\n",
       "      <th>Total Checkouts</th>\n",
       "      <th>Total Renewals</th>\n",
       "      <th>Age Range</th>\n",
       "      <th>Home Library Code</th>\n",
       "      <th>Home Library Definition</th>\n",
       "      <th>Circulation Active Month</th>\n",
       "      <th>Circulation Active Year</th>\n",
       "      <th>Notice Preference Code</th>\n",
       "      <th>Notice Preference Definition</th>\n",
       "      <th>Provided Email Address</th>\n",
       "      <th>Year Patron Registered</th>\n",
       "      <th>Outside of County</th>\n",
       "      <th>Supervisor District</th>\n",
       "    </tr>\n",
       "  </thead>\n",
       "  <tbody>\n",
       "    <tr>\n",
       "      <th>0</th>\n",
       "      <td>0</td>\n",
       "      <td>ADULT</td>\n",
       "      <td>0</td>\n",
       "      <td>0</td>\n",
       "      <td>20 to 24 years</td>\n",
       "      <td>P1</td>\n",
       "      <td>Park</td>\n",
       "      <td>NaN</td>\n",
       "      <td>NaN</td>\n",
       "      <td>z</td>\n",
       "      <td>email</td>\n",
       "      <td>True</td>\n",
       "      <td>2014</td>\n",
       "      <td>False</td>\n",
       "      <td>5.0</td>\n",
       "    </tr>\n",
       "    <tr>\n",
       "      <th>1</th>\n",
       "      <td>0</td>\n",
       "      <td>ADULT</td>\n",
       "      <td>31</td>\n",
       "      <td>22</td>\n",
       "      <td>25 to 34 years</td>\n",
       "      <td>S7</td>\n",
       "      <td>Sunset</td>\n",
       "      <td>April</td>\n",
       "      <td>2016.0</td>\n",
       "      <td>z</td>\n",
       "      <td>email</td>\n",
       "      <td>True</td>\n",
       "      <td>2010</td>\n",
       "      <td>False</td>\n",
       "      <td>4.0</td>\n",
       "    </tr>\n",
       "    <tr>\n",
       "      <th>2</th>\n",
       "      <td>0</td>\n",
       "      <td>ADULT</td>\n",
       "      <td>0</td>\n",
       "      <td>0</td>\n",
       "      <td>45 to 54 years</td>\n",
       "      <td>P1</td>\n",
       "      <td>Park</td>\n",
       "      <td>NaN</td>\n",
       "      <td>NaN</td>\n",
       "      <td>a</td>\n",
       "      <td>print</td>\n",
       "      <td>False</td>\n",
       "      <td>2016</td>\n",
       "      <td>True</td>\n",
       "      <td>NaN</td>\n",
       "    </tr>\n",
       "    <tr>\n",
       "      <th>3</th>\n",
       "      <td>0</td>\n",
       "      <td>ADULT</td>\n",
       "      <td>0</td>\n",
       "      <td>0</td>\n",
       "      <td>25 to 34 years</td>\n",
       "      <td>X</td>\n",
       "      <td>Main Library</td>\n",
       "      <td>NaN</td>\n",
       "      <td>NaN</td>\n",
       "      <td>z</td>\n",
       "      <td>email</td>\n",
       "      <td>True</td>\n",
       "      <td>2015</td>\n",
       "      <td>False</td>\n",
       "      <td>3.0</td>\n",
       "    </tr>\n",
       "    <tr>\n",
       "      <th>4</th>\n",
       "      <td>0</td>\n",
       "      <td>ADULT</td>\n",
       "      <td>126</td>\n",
       "      <td>11</td>\n",
       "      <td>45 to 54 years</td>\n",
       "      <td>M2</td>\n",
       "      <td>Marina</td>\n",
       "      <td>January</td>\n",
       "      <td>2016.0</td>\n",
       "      <td>z</td>\n",
       "      <td>email</td>\n",
       "      <td>True</td>\n",
       "      <td>2003</td>\n",
       "      <td>False</td>\n",
       "      <td>2.0</td>\n",
       "    </tr>\n",
       "    <tr>\n",
       "      <th>...</th>\n",
       "      <td>...</td>\n",
       "      <td>...</td>\n",
       "      <td>...</td>\n",
       "      <td>...</td>\n",
       "      <td>...</td>\n",
       "      <td>...</td>\n",
       "      <td>...</td>\n",
       "      <td>...</td>\n",
       "      <td>...</td>\n",
       "      <td>...</td>\n",
       "      <td>...</td>\n",
       "      <td>...</td>\n",
       "      <td>...</td>\n",
       "      <td>...</td>\n",
       "      <td>...</td>\n",
       "    </tr>\n",
       "    <tr>\n",
       "      <th>423443</th>\n",
       "      <td>0</td>\n",
       "      <td>ADULT</td>\n",
       "      <td>291</td>\n",
       "      <td>13</td>\n",
       "      <td>10 to 19 years</td>\n",
       "      <td>P5</td>\n",
       "      <td>Portola</td>\n",
       "      <td>March</td>\n",
       "      <td>2015.0</td>\n",
       "      <td>p</td>\n",
       "      <td>phone</td>\n",
       "      <td>False</td>\n",
       "      <td>2009</td>\n",
       "      <td>False</td>\n",
       "      <td>9.0</td>\n",
       "    </tr>\n",
       "    <tr>\n",
       "      <th>423444</th>\n",
       "      <td>0</td>\n",
       "      <td>ADULT</td>\n",
       "      <td>15</td>\n",
       "      <td>11</td>\n",
       "      <td>60 to 64 years</td>\n",
       "      <td>M8</td>\n",
       "      <td>Mission Bay</td>\n",
       "      <td>July</td>\n",
       "      <td>2016.0</td>\n",
       "      <td>z</td>\n",
       "      <td>email</td>\n",
       "      <td>True</td>\n",
       "      <td>2016</td>\n",
       "      <td>False</td>\n",
       "      <td>6.0</td>\n",
       "    </tr>\n",
       "    <tr>\n",
       "      <th>423445</th>\n",
       "      <td>5</td>\n",
       "      <td>STAFF</td>\n",
       "      <td>208</td>\n",
       "      <td>58</td>\n",
       "      <td>0 to 9 years</td>\n",
       "      <td>B4</td>\n",
       "      <td>Bernal Heights</td>\n",
       "      <td>July</td>\n",
       "      <td>2016.0</td>\n",
       "      <td>z</td>\n",
       "      <td>email</td>\n",
       "      <td>True</td>\n",
       "      <td>2014</td>\n",
       "      <td>False</td>\n",
       "      <td>9.0</td>\n",
       "    </tr>\n",
       "    <tr>\n",
       "      <th>423446</th>\n",
       "      <td>0</td>\n",
       "      <td>ADULT</td>\n",
       "      <td>26</td>\n",
       "      <td>0</td>\n",
       "      <td>10 to 19 years</td>\n",
       "      <td>M6</td>\n",
       "      <td>Mission</td>\n",
       "      <td>April</td>\n",
       "      <td>2015.0</td>\n",
       "      <td>z</td>\n",
       "      <td>email</td>\n",
       "      <td>True</td>\n",
       "      <td>2003</td>\n",
       "      <td>False</td>\n",
       "      <td>9.0</td>\n",
       "    </tr>\n",
       "    <tr>\n",
       "      <th>423447</th>\n",
       "      <td>1</td>\n",
       "      <td>JUVENILE</td>\n",
       "      <td>0</td>\n",
       "      <td>0</td>\n",
       "      <td>0 to 9 years</td>\n",
       "      <td>E7</td>\n",
       "      <td>Eureka Valley/Harvey Milk Memorial</td>\n",
       "      <td>NaN</td>\n",
       "      <td>NaN</td>\n",
       "      <td>a</td>\n",
       "      <td>print</td>\n",
       "      <td>False</td>\n",
       "      <td>2015</td>\n",
       "      <td>False</td>\n",
       "      <td>8.0</td>\n",
       "    </tr>\n",
       "  </tbody>\n",
       "</table>\n",
       "<p>423233 rows × 15 columns</p>\n",
       "</div>"
      ],
      "text/plain": [
       "        Patron Type Code Patron Type Definition  Total Checkouts  \\\n",
       "0                      0                  ADULT                0   \n",
       "1                      0                  ADULT               31   \n",
       "2                      0                  ADULT                0   \n",
       "3                      0                  ADULT                0   \n",
       "4                      0                  ADULT              126   \n",
       "...                  ...                    ...              ...   \n",
       "423443                 0                  ADULT              291   \n",
       "423444                 0                  ADULT               15   \n",
       "423445                 5                  STAFF              208   \n",
       "423446                 0                  ADULT               26   \n",
       "423447                 1               JUVENILE                0   \n",
       "\n",
       "        Total Renewals       Age Range Home Library Code  \\\n",
       "0                    0  20 to 24 years                P1   \n",
       "1                   22  25 to 34 years                S7   \n",
       "2                    0  45 to 54 years                P1   \n",
       "3                    0  25 to 34 years                 X   \n",
       "4                   11  45 to 54 years                M2   \n",
       "...                ...             ...               ...   \n",
       "423443              13  10 to 19 years                P5   \n",
       "423444              11  60 to 64 years                M8   \n",
       "423445              58    0 to 9 years                B4   \n",
       "423446               0  10 to 19 years                M6   \n",
       "423447               0    0 to 9 years                E7   \n",
       "\n",
       "                   Home Library Definition Circulation Active Month  \\\n",
       "0                                     Park                      NaN   \n",
       "1                                   Sunset                    April   \n",
       "2                                     Park                      NaN   \n",
       "3                             Main Library                      NaN   \n",
       "4                                   Marina                  January   \n",
       "...                                    ...                      ...   \n",
       "423443                             Portola                    March   \n",
       "423444                         Mission Bay                     July   \n",
       "423445                      Bernal Heights                     July   \n",
       "423446                             Mission                    April   \n",
       "423447  Eureka Valley/Harvey Milk Memorial                      NaN   \n",
       "\n",
       "        Circulation Active Year Notice Preference Code  \\\n",
       "0                           NaN                      z   \n",
       "1                        2016.0                      z   \n",
       "2                           NaN                      a   \n",
       "3                           NaN                      z   \n",
       "4                        2016.0                      z   \n",
       "...                         ...                    ...   \n",
       "423443                   2015.0                      p   \n",
       "423444                   2016.0                      z   \n",
       "423445                   2016.0                      z   \n",
       "423446                   2015.0                      z   \n",
       "423447                      NaN                      a   \n",
       "\n",
       "       Notice Preference Definition  Provided Email Address  \\\n",
       "0                             email                    True   \n",
       "1                             email                    True   \n",
       "2                             print                   False   \n",
       "3                             email                    True   \n",
       "4                             email                    True   \n",
       "...                             ...                     ...   \n",
       "423443                        phone                   False   \n",
       "423444                        email                    True   \n",
       "423445                        email                    True   \n",
       "423446                        email                    True   \n",
       "423447                        print                   False   \n",
       "\n",
       "        Year Patron Registered  Outside of County  Supervisor District  \n",
       "0                         2014              False                  5.0  \n",
       "1                         2010              False                  4.0  \n",
       "2                         2016               True                  NaN  \n",
       "3                         2015              False                  3.0  \n",
       "4                         2003              False                  2.0  \n",
       "...                        ...                ...                  ...  \n",
       "423443                    2009              False                  9.0  \n",
       "423444                    2016              False                  6.0  \n",
       "423445                    2014              False                  9.0  \n",
       "423446                    2003              False                  9.0  \n",
       "423447                    2015              False                  8.0  \n",
       "\n",
       "[423233 rows x 15 columns]"
      ]
     },
     "execution_count": 42,
     "metadata": {},
     "output_type": "execute_result"
    }
   ],
   "source": [
    "df[df['Age Range'].isna()]\n",
    "df[df['Age Range'].notna()]"
   ]
  },
  {
   "cell_type": "code",
   "execution_count": 43,
   "id": "a879c10f",
   "metadata": {},
   "outputs": [
    {
     "data": {
      "text/plain": [
       "Patron Type Code                423448\n",
       "Patron Type Definition          423448\n",
       "Total Checkouts                 423448\n",
       "Total Renewals                  423448\n",
       "Age Range                       423233\n",
       "Home Library Code               423408\n",
       "Home Library Definition         423448\n",
       "Circulation Active Month        355544\n",
       "Circulation Active Year         355544\n",
       "Notice Preference Code          423448\n",
       "Notice Preference Definition    423448\n",
       "Provided Email Address          423448\n",
       "Year Patron Registered          423448\n",
       "Outside of County               423448\n",
       "Supervisor District             313138\n",
       "dtype: int64"
      ]
     },
     "execution_count": 43,
     "metadata": {},
     "output_type": "execute_result"
    }
   ],
   "source": [
    "df.notna().sum()"
   ]
  },
  {
   "cell_type": "code",
   "execution_count": 44,
   "id": "4f24c181",
   "metadata": {},
   "outputs": [
    {
     "data": {
      "text/plain": [
       "Patron Type Code                     0\n",
       "Patron Type Definition               0\n",
       "Total Checkouts                      0\n",
       "Total Renewals                       0\n",
       "Age Range                          215\n",
       "Home Library Code                   40\n",
       "Home Library Definition              0\n",
       "Circulation Active Month         67904\n",
       "Circulation Active Year          67904\n",
       "Notice Preference Code               0\n",
       "Notice Preference Definition         0\n",
       "Provided Email Address               0\n",
       "Year Patron Registered               0\n",
       "Outside of County                    0\n",
       "Supervisor District             110310\n",
       "dtype: int64"
      ]
     },
     "execution_count": 44,
     "metadata": {},
     "output_type": "execute_result"
    }
   ],
   "source": [
    "df.isna().sum()"
   ]
  },
  {
   "cell_type": "code",
   "execution_count": 45,
   "id": "3121052c",
   "metadata": {},
   "outputs": [
    {
     "data": {
      "text/plain": [
       "0         20 to 24 years\n",
       "1         25 to 34 years\n",
       "2         45 to 54 years\n",
       "3         25 to 34 years\n",
       "4         45 to 54 years\n",
       "               ...      \n",
       "423443    10 to 19 years\n",
       "423444    60 to 64 years\n",
       "423445      0 to 9 years\n",
       "423446    10 to 19 years\n",
       "423447      0 to 9 years\n",
       "Name: Age Range, Length: 423233, dtype: object"
      ]
     },
     "execution_count": 45,
     "metadata": {},
     "output_type": "execute_result"
    }
   ],
   "source": [
    "# drops all rows that contain at least one missing values\n",
    "df.dropna()\n",
    "# drops all missing values in this series\n",
    "df['Age Range'].dropna()"
   ]
  },
  {
   "cell_type": "code",
   "execution_count": 32,
   "id": "683d5ddb",
   "metadata": {},
   "outputs": [
    {
     "data": {
      "text/plain": [
       "0         20 to 24 years\n",
       "1         25 to 34 years\n",
       "2         45 to 54 years\n",
       "3         25 to 34 years\n",
       "4         45 to 54 years\n",
       "               ...      \n",
       "423443    10 to 19 years\n",
       "423444    60 to 64 years\n",
       "423445      0 to 9 years\n",
       "423446    10 to 19 years\n",
       "423447      0 to 9 years\n",
       "Name: Age Range, Length: 423448, dtype: object"
      ]
     },
     "execution_count": 32,
     "metadata": {},
     "output_type": "execute_result"
    }
   ],
   "source": [
    "df['Age Range'].fillna(\"keine Angabe\")"
   ]
  },
  {
   "cell_type": "code",
   "execution_count": 33,
   "id": "b11ec467",
   "metadata": {},
   "outputs": [
    {
     "data": {
      "text/plain": [
       "'25 to 34 years'"
      ]
     },
     "execution_count": 33,
     "metadata": {},
     "output_type": "execute_result"
    }
   ],
   "source": [
    "age_mode = df['Age Range'].mode()\n",
    "age_mode[0]"
   ]
  },
  {
   "cell_type": "code",
   "execution_count": 34,
   "id": "7b66f022",
   "metadata": {},
   "outputs": [],
   "source": [
    "source : [\"age_range_mode = df['Age Range'].mode()[0]\\n\",\n",
    "    \"df['Age Range'].fillna(age_range_mode, inplace=True)\"]"
   ]
  },
  {
   "cell_type": "markdown",
   "id": "8725b4f4",
   "metadata": {},
   "source": [
    "4. Denkst Du, es handelt sich dabei um eine gute Methode, fehlende Werte zu ersetzen?\n",
    "   Welche anderen Strategien fallen Dir ein?\n"
   ]
  },
  {
   "cell_type": "markdown",
   "id": "556e8380",
   "metadata": {},
   "source": [
    "## Lagemasse\n",
    "### 3.2 Mittelwert und Median (20 Min)\n",
    "\n",
    "Schau Dir den Mittelwert und den Median der Variable Total Checkouts an.\n",
    "- Warum sind die beiden Werte so unterschiedlich?\n",
    "\n",
    "- Was ziehst Du daraus für Schlüsse für weitere statistische Analysen und Reports?\n"
   ]
  },
  {
   "cell_type": "code",
   "execution_count": 47,
   "id": "9928b38c",
   "metadata": {},
   "outputs": [
    {
     "data": {
      "text/plain": [
       "161.98209697530748"
      ]
     },
     "execution_count": 47,
     "metadata": {},
     "output_type": "execute_result"
    }
   ],
   "source": [
    "df = pd.read_csv(\"../data/Library_Usage.csv\")\n",
    "df['Total Checkouts'].mean()"
   ]
  },
  {
   "cell_type": "code",
   "execution_count": 48,
   "id": "bbc9bfa0",
   "metadata": {},
   "outputs": [
    {
     "data": {
      "text/plain": [
       "19.0"
      ]
     },
     "execution_count": 48,
     "metadata": {},
     "output_type": "execute_result"
    }
   ],
   "source": [
    "df['Total Checkouts'].median()"
   ]
  },
  {
   "cell_type": "markdown",
   "id": "ebacb53e",
   "metadata": {},
   "source": [
    "## 3.3 Exkurs: Ausreißerentfernung I (30 Min)\n",
    "**Quantile**\n",
    "\n",
    "- Identifziere jeweils die 1.5% größten Werte in der Spalte Total Checkouts.\n",
    "- Definiere diese Werte als Ausreißer.\n",
    "- Erstelle einen Datensatz, für den diese Ausreißer entfernt sind.\n",
    "- Handelt es sich hierbei um eine gute Methode, Ausreißer zu identifizieren und zu behandeln?\n",
    "- Welche anderen Strategien kennst Du?"
   ]
  },
  {
   "cell_type": "code",
   "execution_count": 49,
   "id": "f5b2b500",
   "metadata": {},
   "outputs": [
    {
     "data": {
      "text/plain": [
       "0.25      2.0\n",
       "0.50     19.0\n",
       "0.75    113.0\n",
       "Name: Total Checkouts, dtype: float64"
      ]
     },
     "execution_count": 49,
     "metadata": {},
     "output_type": "execute_result"
    }
   ],
   "source": [
    "df['Total Checkouts'].quantile(q=[0.25, 0.5, 0.75])"
   ]
  },
  {
   "cell_type": "code",
   "execution_count": null,
   "id": "d33b6102",
   "metadata": {},
   "outputs": [],
   "source": []
  }
 ],
 "metadata": {
  "kernelspec": {
   "display_name": "Python 3 (ipykernel)",
   "language": "python",
   "name": "python3"
  },
  "language_info": {
   "codemirror_mode": {
    "name": "ipython",
    "version": 3
   },
   "file_extension": ".py",
   "mimetype": "text/x-python",
   "name": "python",
   "nbconvert_exporter": "python",
   "pygments_lexer": "ipython3",
   "version": "3.9.7"
  }
 },
 "nbformat": 4,
 "nbformat_minor": 5
}
